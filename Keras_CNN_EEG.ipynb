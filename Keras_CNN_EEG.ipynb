{
 "cells": [
  {
   "cell_type": "code",
   "execution_count": null,
   "metadata": {},
   "outputs": [],
   "source": [
    "import pandas as pd\n",
    "from keras.models import Sequential\n",
    "from keras import layers,metrics\n",
    "from sklearn import metrics\n",
    "from keras.layers import Dense, Conv1D, Flatten, MaxPooling1D,Dropout\n",
    "from sklearn.model_selection import train_test_split\n",
    "import numpy as np\n",
    "import seaborn as sns\n",
    "from scipy import stats\n",
    "from matplotlib import pyplot as plt\n",
    "from sklearn.metrics import classification_report"
   ]
  },
  {
   "cell_type": "code",
   "execution_count": null,
   "metadata": {},
   "outputs": [],
   "source": [
    "data =pd.read_csv('C:/Users/skalathu/Downloads/Train0.csv')\n",
    "data_test=pd.read_csv('C:/Users/skalathu/Downloads/Test/chk/sample_test_0.csv')"
   ]
  },
  {
   "cell_type": "code",
   "execution_count": null,
   "metadata": {},
   "outputs": [],
   "source": [
    "data2 = data[data.columns[1:72]] \n",
    "data2_test=data_test[data.columns[1:72]] "
   ]
  },
  {
   "cell_type": "code",
   "execution_count": null,
   "metadata": {},
   "outputs": [],
   "source": [
    "trainX = data2[data2.columns[0:71]] \n",
    "x1_test=data2_test[data2_test.columns[0:71]] "
   ]
  },
  {
   "cell_type": "code",
   "execution_count": null,
   "metadata": {},
   "outputs": [],
   "source": [
    "trainy = data2[[\"Y\"]]\n",
    "y1_test=data2_test[[\"Y\"]]\n",
    "x_train, x_test, y_train, y_test = train_test_split(trainX, trainy, test_size = 0.2,random_state = 120)"
   ]
  },
  {
   "cell_type": "code",
   "execution_count": null,
   "metadata": {},
   "outputs": [],
   "source": [
    "x_train = np.array(x_train)\n",
    "x_test=np.array(x_test)\n",
    "x1_test=np.array(x1_test)\n",
    "x_train = x_train.reshape(x_train.shape[0], x_train.shape[1], 1)\n",
    "x_test= x_test.reshape(x_test.shape[0], x_test.shape[1], 1)\n",
    "x1_test= x1_test.reshape(x1_test.shape[0], x1_test.shape[1], 1)"
   ]
  },
  {
   "cell_type": "code",
   "execution_count": null,
   "metadata": {},
   "outputs": [],
   "source": [
    "x1_test.shape"
   ]
  },
  {
   "cell_type": "code",
   "execution_count": null,
   "metadata": {},
   "outputs": [],
   "source": [
    "LABELS = [\"0\",\"1\"]\n",
    "def show_confusion_matrix(validations, predictions):\n",
    "\n",
    "    matrix = metrics.confusion_matrix(validations, predictions)\n",
    "    plt.figure(figsize=(6, 4))\n",
    "    sns.heatmap(matrix,\n",
    "                cmap=\"coolwarm\",\n",
    "                linecolor='white',\n",
    "                linewidths=1,\n",
    "                xticklabels=LABELS,\n",
    "                yticklabels=LABELS,\n",
    "                annot=True,\n",
    "                fmt=\"d\")\n",
    "    plt.title(\"Confusion Matrix\")\n",
    "    plt.ylabel(\"True Label\")\n",
    "    plt.xlabel(\"Predicted Label\")\n",
    "    plt.show()\n",
    "    \n",
    "verbose, epochs, batch_size = 0, 10, 32\n",
    "n_timesteps = x_train.shape[1]\n",
    "n_features=x_train.shape[2]\n",
    "n_outputs = y_train.shape[1]\n",
    "model = Sequential()\n",
    "model.add(Conv1D(64, 2, activation=\"softmax\", input_shape=(n_timesteps,n_features)))\n",
    "model.add(Dense(16, activation=\"relu\"))\n",
    "model.add(MaxPooling1D())\n",
    "model.add(Flatten())\n",
    "model.add(Dense(3, activation = 'softmax'))\n",
    "model.compile(loss = 'binary8_crossentropy', \n",
    "     optimizer = \"adam\",               \n",
    "              metrics =['accuracy'])\n",
    "model.summary()\n"
   ]
  },
  {
   "cell_type": "code",
   "execution_count": null,
   "metadata": {},
   "outputs": [],
   "source": [
    "model.fit(x_train, y_train, batch_size=16,epochs=150, verbose=0)\n",
    "\n",
    "acc_val = model.evaluate(x_test, y_test)\n",
    "acc_val = model.evaluate(x1_test, y1_test)\n",
    "pred_val = model.predict(x1_test)\n",
    "print(\"Train Loss:\", acc_val[0], \" Train Accuracy:\", acc_val[1])\n",
    "#print(\"Test Loss:\", acc[0], \" Test Accuracy:\", acc[1])\n",
    "y1_pred = np.argmax(pred_val, axis=1)\n",
    "y1_test = np.argmax(y1_test, axis=1)\n",
    "show_confusion_matrix(y1_test, y1_pred)\n",
    "print(classification_report(y1_test, y1_pred))"
   ]
  },
  {
   "cell_type": "code",
   "execution_count": null,
   "metadata": {},
   "outputs": [],
   "source": [
    "\n",
    "\n"
   ]
  }
 ],
 "metadata": {
  "kernelspec": {
   "display_name": "Python 3",
   "language": "python",
   "name": "python3"
  },
  "language_info": {
   "codemirror_mode": {
    "name": "ipython",
    "version": 3
   },
   "file_extension": ".py",
   "mimetype": "text/x-python",
   "name": "python",
   "nbconvert_exporter": "python",
   "pygments_lexer": "ipython3",
   "version": "3.7.6"
  }
 },
 "nbformat": 4,
 "nbformat_minor": 4
}
